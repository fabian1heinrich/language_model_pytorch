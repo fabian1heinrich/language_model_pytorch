{
 "cells": [
  {
   "cell_type": "code",
   "execution_count": null,
   "source": [],
   "outputs": [],
   "metadata": {}
  },
  {
   "cell_type": "code",
   "execution_count": 1,
   "source": [
    "import math\n",
    "\n",
    "from torchtext.datasets import WikiText2\n",
    "\n",
    "from model import TransformerModel, train_model, evaluate_model, save_model\n",
    "from data_provider import LMData\n",
    "\n",
    "vocab_train = WikiText2(split='train')\n",
    "vocab_test = WikiText2(split='train')\n",
    "train_iter, eval_iter, test_iter = WikiText2()\n",
    "train_data = LMData(vocab_train, train_iter, 20, 35)\n",
    "test_data = LMData(vocab_test, test_iter, 20, 35)\n",
    "\n",
    "n_token = train_data.n_token  # size of vocabulary\n",
    "n_token2 = test_data.n_token\n",
    "\n",
    "n_token2"
   ],
   "outputs": [
    {
     "output_type": "execute_result",
     "data": {
      "text/plain": [
       "28782"
      ]
     },
     "metadata": {},
     "execution_count": 1
    }
   ],
   "metadata": {}
  },
  {
   "cell_type": "code",
   "execution_count": null,
   "source": [
    "test_data.vocab"
   ],
   "outputs": [],
   "metadata": {}
  },
  {
   "cell_type": "code",
   "execution_count": 3,
   "source": [
    "n_token2"
   ],
   "outputs": [
    {
     "output_type": "execute_result",
     "data": {
      "text/plain": [
       "28782"
      ]
     },
     "metadata": {},
     "execution_count": 3
    }
   ],
   "metadata": {}
  },
  {
   "cell_type": "code",
   "execution_count": null,
   "source": [],
   "outputs": [],
   "metadata": {}
  }
 ],
 "metadata": {
  "orig_nbformat": 4,
  "language_info": {
   "name": "python",
   "version": "3.8.10",
   "mimetype": "text/x-python",
   "codemirror_mode": {
    "name": "ipython",
    "version": 3
   },
   "pygments_lexer": "ipython3",
   "nbconvert_exporter": "python",
   "file_extension": ".py"
  },
  "kernelspec": {
   "name": "python3",
   "display_name": "Python 3.8.10 64-bit ('.venv': venv)"
  },
  "interpreter": {
   "hash": "56aff06483e8080fc599db45bad96297ade79cfb8e88877c9ba072ec0be460cd"
  }
 },
 "nbformat": 4,
 "nbformat_minor": 2
}