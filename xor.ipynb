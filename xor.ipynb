{
 "cells": [
  {
   "cell_type": "code",
   "execution_count": 48,
   "source": [
    "import torch\n",
    "import torch.nn as nn\n",
    "\n",
    "from torch.utils.data import Dataset, DataLoader\n",
    "\n",
    "import torch\n",
    "import torch.nn as nn\n",
    "\n",
    "from torch.utils.data import Dataset\n",
    "\n",
    "\n",
    "class XORData(Dataset):\n",
    "    def __init__(self, length, batch_size):\n",
    "        super().__init__()\n",
    "\n",
    "        self.length = length\n",
    "        self.batch_size = batch_size\n",
    "\n",
    "        self.data = torch.Tensor([[0.0, 0.0], [0.0, 1.0], [1.0, 0.0], [1.0, 1.0]])\n",
    "        self.targets = torch.Tensor([[0.0], [1.0], [1.0], [1.0]])\n",
    "\n",
    "    def __getitem__(self, index):\n",
    "        inputs = torch.randint(\n",
    "            low=0,\n",
    "            high=2,\n",
    "            size=(self.batch_size, 2),\n",
    "        )\n",
    "        targets = torch.bitwise_xor(inputs[:, 0], inputs[:, 1])\n",
    "\n",
    "        return inputs, targets.unsqueeze_(dim=1)\n",
    "\n",
    "    def __len__(self):\n",
    "        return self.length // self.batch_size\n",
    "\n",
    "\n",
    "class XORModel(nn.Module):\n",
    "    def __init__(self):\n",
    "        super().__init__()\n",
    "\n",
    "        self.hidden_layer = nn.Linear(2, 3, bias=False)\n",
    "        self.activation1 = nn.Tanh()\n",
    "        self.output_layer = nn.Linear(3, 1, bias=False)\n",
    "\n",
    "    def forward(self, x, print_bool=False):\n",
    "\n",
    "        if print_bool==True:\n",
    "            x = self.hidden_layer(x)\n",
    "            x = self.activation1(x)\n",
    "            print(x)\n",
    "            x = self.output_layer(x)\n",
    "        else:\n",
    "            x = self.hidden_layer(x)\n",
    "            x = self.activation1(x)\n",
    "            x = self.output_layer(x)\n",
    "        return x\n",
    "\n",
    "data = XORData(10000, 10)\n",
    "data_loader = DataLoader(data, batch_size=1)\n"
   ],
   "outputs": [],
   "metadata": {}
  },
  {
   "cell_type": "code",
   "execution_count": 49,
   "source": [
    "model = XORModel()\n",
    "\n",
    "optimizer = torch.optim.Adam(model.parameters(), lr=0.01)\n",
    "criterion = nn.L1Loss(reduction='mean', reduce=True)\n",
    "\n",
    "for epoch in range(12):\n",
    "    train_loss = 0\n",
    "    for batch in data_loader:\n",
    "        input, target = batch\n",
    "\n",
    "        optimizer.zero_grad()\n",
    "        output = model(input.float())\n",
    "        loss = criterion(output, target.float())\n",
    "        loss.backward()\n",
    "        optimizer.step()\n",
    "        train_loss += loss.item()\n",
    "\n",
    "    print('epoch: {} | loss: {:.8f}'.format(\n",
    "        epoch + 1,\n",
    "        train_loss / len(data_loader)\n",
    "    ))"
   ],
   "outputs": [
    {
     "output_type": "stream",
     "name": "stderr",
     "text": [
      "/home/heinrich/projects/language_model_pytorch/.venv/lib/python3.8/site-packages/torch/nn/_reduction.py:42: UserWarning: size_average and reduce args will be deprecated, please use reduction='mean' instead.\n",
      "  warnings.warn(warning.format(ret))\n"
     ]
    },
    {
     "output_type": "stream",
     "name": "stdout",
     "text": [
      "epoch: 1 | loss: 0.10023623\n",
      "epoch: 2 | loss: 0.00374301\n",
      "epoch: 3 | loss: 0.00306273\n",
      "epoch: 4 | loss: 0.00311355\n",
      "epoch: 5 | loss: 0.00326434\n",
      "epoch: 6 | loss: 0.00347490\n",
      "epoch: 7 | loss: 0.00327510\n",
      "epoch: 8 | loss: 0.00321626\n",
      "epoch: 9 | loss: 0.00368590\n",
      "epoch: 10 | loss: 0.00328628\n",
      "epoch: 11 | loss: 0.00299241\n",
      "epoch: 12 | loss: 0.00350467\n"
     ]
    }
   ],
   "metadata": {}
  },
  {
   "cell_type": "code",
   "execution_count": 50,
   "source": [
    "for name, param in model.named_parameters():\n",
    "    print(name)\n",
    "    print(param)"
   ],
   "outputs": [
    {
     "output_type": "stream",
     "name": "stdout",
     "text": [
      "hidden_layer.weight\n",
      "Parameter containing:\n",
      "tensor([[-2.3912,  0.7140],\n",
      "        [ 0.3000, -1.6301],\n",
      "        [-3.0067, -2.7479]], requires_grad=True)\n",
      "output_layer.weight\n",
      "Parameter containing:\n",
      "tensor([[ 0.6823,  0.8896, -1.4194]], requires_grad=True)\n"
     ]
    }
   ],
   "metadata": {}
  },
  {
   "cell_type": "markdown",
   "source": [],
   "metadata": {}
  },
  {
   "cell_type": "code",
   "execution_count": 51,
   "source": [
    "input = torch.Tensor([[0.0, 0.0],[0.0, 1.0], [1.0, 0.0], [1.0, 1.0]])\n",
    "target = torch.Tensor([0.0, 1.0, 1.0, 0.0])\n",
    "output = model(torch.Tensor([1.0, 1.0]), print_bool=True)\n"
   ],
   "outputs": [
    {
     "output_type": "stream",
     "name": "stdout",
     "text": [
      "tensor([-0.9325, -0.8693, -1.0000], grad_fn=<TanhBackward>)\n"
     ]
    }
   ],
   "metadata": {}
  },
  {
   "cell_type": "code",
   "execution_count": null,
   "source": [
    "criterion = nn.MSELoss()\n",
    "criterion(output, target.unsqueeze_(dim=1))\n",
    "criterion(torch.Tensor([0.75]), torch.Tensor([1.0]))"
   ],
   "outputs": [],
   "metadata": {}
  },
  {
   "cell_type": "code",
   "execution_count": null,
   "source": [],
   "outputs": [],
   "metadata": {}
  }
 ],
 "metadata": {
  "orig_nbformat": 4,
  "language_info": {
   "name": "python",
   "version": "3.8.10",
   "mimetype": "text/x-python",
   "codemirror_mode": {
    "name": "ipython",
    "version": 3
   },
   "pygments_lexer": "ipython3",
   "nbconvert_exporter": "python",
   "file_extension": ".py"
  },
  "kernelspec": {
   "name": "python3",
   "display_name": "Python 3.8.10 64-bit ('.venv': venv)"
  },
  "interpreter": {
   "hash": "56aff06483e8080fc599db45bad96297ade79cfb8e88877c9ba072ec0be460cd"
  }
 },
 "nbformat": 4,
 "nbformat_minor": 2
}